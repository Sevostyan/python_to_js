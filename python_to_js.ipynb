{
 "cells": [
  {
   "cell_type": "code",
   "execution_count": 4,
   "metadata": {},
   "outputs": [],
   "source": [
    "reserved_words = {\n",
    "    'self': 'this',\n",
    "    'def': 'function',\n",
    "    'class': 'class',\n",
    "    '__init__': 'constructor',\n",
    "}"
   ]
  },
  {
   "cell_type": "code",
   "execution_count": 2,
   "metadata": {},
   "outputs": [],
   "source": [
    "def ConverterFunc(text):\n",
    "    _str = ''\n",
    "    result = ''\n",
    "    open_skobka = False\n",
    "    open_skobka_current_row = False\n",
    "    count_space = 0\n",
    "    current_space = 0\n",
    "    counter_space = False\n",
    "    for i in text:\n",
    "        if i == '\\n':\n",
    "            count_space = current_space\n",
    "            current_space = 0\n",
    "            counter_space = True\n",
    "            open_skobka_current_row = False\n",
    "        if i == '{':\n",
    "            open_skobka = True\n",
    "            open_skobka_current_row = True\n",
    "        if i != ' ' and i != '(' and i != ')' and i != ','and i != ':' and i != '.':\n",
    "            _str += i\n",
    "            \n",
    "            if counter_space and i != '\\n':\n",
    "                counter_space = False\n",
    "        else:\n",
    "            if _str in reserved_words:\n",
    "                result += reserved_words[_str]\n",
    "            else:\n",
    "                result += _str\n",
    "            if i != ':':\n",
    "                result += i\n",
    "            elif not open_skobka_current_row:\n",
    "                open_skobka = True\n",
    "                result += ' {'\n",
    "            else:\n",
    "                result += ':'\n",
    "            _str = ''\n",
    "            if i == ' ' and counter_space:\n",
    "                current_space += 1\n",
    "        if count_space > current_space and open_skobka and i != ' ' and i != '\\n' and not counter_space:\n",
    "            result += '}\\n'\n",
    "            result += ' ' * current_space\n",
    "            open_skobka = False\n",
    "            count_space -= 4\n",
    "    result += _str\n",
    "    result += '\\n'\n",
    "    result += '}'\n",
    "    print(result)"
   ]
  },
  {
   "cell_type": "code",
   "execution_count": 225,
   "metadata": {},
   "outputs": [
    {
     "name": "stdout",
     "output_type": "stream",
     "text": [
      "function foo(a, b, c) {\n",
      "    pass\n",
      "}\n"
     ]
    }
   ],
   "source": [
    "ConverterFunc('''def foo(a, b, c):\n",
    "    pass''')"
   ]
  },
  {
   "cell_type": "code",
   "execution_count": 226,
   "metadata": {},
   "outputs": [
    {
     "name": "stdout",
     "output_type": "stream",
     "text": [
      "function foo(a, b) {\n",
      "    c = a + b\n",
      "    return c\n",
      "}\n"
     ]
    }
   ],
   "source": [
    "ConverterFunc('''def foo(a, b):\n",
    "    c = a + b\n",
    "    return c''')"
   ]
  },
  {
   "cell_type": "code",
   "execution_count": 227,
   "metadata": {},
   "outputs": [
    {
     "name": "stdout",
     "output_type": "stream",
     "text": [
      "function get_cool_vacancy(salary = None, has_test = None, desc = '', skills = '') {\n",
      "    cool_df = df.loc[(df['vacancy'].str.contains(skills.replace(';', '|'))) & (df['description'].str.contains(desc))]\n",
      "    if has_test is not None {\n",
      "        cool_df= cool_df.loc[(df['has_test'] == has_test)]\n",
      "    }\n",
      "    if salary {\n",
      "        cool_df = cool_df.loc[(df['salary_from_rubels'] < salary) & (df['salary_to_rubels'] >= salary)]\n",
      "    }\n",
      "    return {'кол-во': len(cool_df), 'ср. зарплата': cool_df['mean_salary_rubels'].mean(), 'ссылки': cool_df['url'].values}\n",
      "}\n"
     ]
    }
   ],
   "source": [
    "ConverterFunc('''def get_cool_vacancy(salary = None, has_test = None, desc = '', skills = ''):\n",
    "    cool_df = df.loc[(df['vacancy'].str.contains(skills.replace(';', '|'))) & (df['description'].str.contains(desc))]\n",
    "    if has_test is not None:\n",
    "        cool_df= cool_df.loc[(df['has_test'] == has_test)]\n",
    "    if salary:\n",
    "        cool_df = cool_df.loc[(df['salary_from_rubels'] < salary) & (df['salary_to_rubels'] >= salary)]\n",
    "    return {'кол-во': len(cool_df), 'ср. зарплата': cool_df['mean_salary_rubels'].mean(), 'ссылки': cool_df['url'].values}''')"
   ]
  },
  {
   "cell_type": "code",
   "execution_count": 234,
   "metadata": {},
   "outputs": [
    {
     "name": "stdout",
     "output_type": "stream",
     "text": [
      "class Foo {\n",
      "    constructor(this, a) {\n",
      "        this.a = a\n",
      "    }\n",
      "    add(this, b) {\n",
      "        this.a += b\n",
      "}\n"
     ]
    }
   ],
   "source": [
    "ConverterFunc('''class Foo:\n",
    "    __init__(self, a):\n",
    "        self.a = a\n",
    "    add(self, b):\n",
    "        self.a += b''')"
   ]
  }
 ],
 "metadata": {
  "kernelspec": {
   "display_name": "Python 3",
   "language": "python",
   "name": "python3"
  },
  "language_info": {
   "codemirror_mode": {
    "name": "ipython",
    "version": 3
   },
   "file_extension": ".py",
   "mimetype": "text/x-python",
   "name": "python",
   "nbconvert_exporter": "python",
   "pygments_lexer": "ipython3",
   "version": "3.11.2"
  },
  "orig_nbformat": 4
 },
 "nbformat": 4,
 "nbformat_minor": 2
}
